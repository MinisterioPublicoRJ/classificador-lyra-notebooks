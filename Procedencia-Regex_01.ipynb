{
 "cells": [
  {
   "cell_type": "markdown",
   "metadata": {},
   "source": [
    "## Importa módulos"
   ]
  },
  {
   "cell_type": "code",
   "execution_count": 1,
   "metadata": {},
   "outputs": [],
   "source": [
    "%matplotlib inline\n",
    "import matplotlib.pyplot as plt\n",
    "import cx_Oracle\n",
    "import pandas as pd\n",
    "import numpy as np\n",
    "import logging\n",
    "import json\n",
    "import itertools\n",
    "import _pickle as cPickle\n",
    "from IPython.core.debugger import Tracer\n",
    "from functools import reduce\n",
    "import operator\n",
    "logging.basicConfig(format='%(asctime)s : %(levelname)s : %(message)s', level=logging.INFO)\n",
    "from multiprocessing import Pool\n",
    "import os\n",
    "from sklearn.metrics import confusion_matrix\n",
    "from classificadores import regex\n",
    "import dask.dataframe as ddf\n",
    "from dask.delayed import delayed\n",
    "from multiprocessing import cpu_count"
   ]
  },
  {
   "cell_type": "markdown",
   "metadata": {},
   "source": [
    "## Variáveis de configuração"
   ]
  },
  {
   "cell_type": "code",
   "execution_count": 2,
   "metadata": {},
   "outputs": [],
   "source": [
    "DS_EXADATA_HOST=os.environ['DB_HOST']\n",
    "DS_EXADATA_PORT=os.environ['DB_PORT']\n",
    "DS_EXADATA_SID=os.environ['DB_SID']\n",
    "DS_EXADATA_user=os.environ['DB_USER']\n",
    "DS_EXADATA_password=os.environ['DB_PASSWORD']\n",
    "\n",
    "pd.set_option('display.max_colwidth', 300)\n",
    "CACHE=True"
   ]
  },
  {
   "cell_type": "markdown",
   "metadata": {},
   "source": [
    "## Conexão com banco"
   ]
  },
  {
   "cell_type": "code",
   "execution_count": 3,
   "metadata": {},
   "outputs": [],
   "source": [
    "dsn_tns = cx_Oracle.makedsn(\n",
    "        DS_EXADATA_HOST,\n",
    "        DS_EXADATA_PORT,\n",
    "        DS_EXADATA_SID)\n",
    "ora_conn = cx_Oracle.connect(\n",
    "        DS_EXADATA_user,\n",
    "        DS_EXADATA_password,\n",
    "        dsn_tns,\n",
    "        encoding=\"UTF-8\",\n",
    "        nencoding=\"UTF-8\",\n",
    "        threaded=True)"
   ]
  },
  {
   "cell_type": "markdown",
   "metadata": {},
   "source": [
    "## Query dos processos"
   ]
  },
  {
   "cell_type": "markdown",
   "metadata": {},
   "source": [
    "#### Extrai os valores do cx_Oracle.LOB, processo lento e pouco paralelizável\n",
    "#### Altere a variável CACHE para utilizar um pickle armazenado anteriormente"
   ]
  },
  {
   "cell_type": "code",
   "execution_count": 4,
   "metadata": {},
   "outputs": [
    {
     "name": "stdout",
     "output_type": "stream",
     "text": [
      "CPU times: user 261 ms, sys: 101 ms, total: 362 ms\n",
      "Wall time: 361 ms\n"
     ]
    }
   ],
   "source": [
    "if CACHE:\n",
    "    %time df_ora = pd.read_pickle('df_ora_lido.pkl')\n",
    "else:\n",
    "    df_ora = pd.read_sql(\"\"\"SELECT TJRJ_PROCESSO_MOVIMENTO_TJ.*, 0 as EH_SENTENCA \n",
    "     FROM tjrj.TJRJ_PROCESSO_MOVIMENTO_TJ \n",
    "     WHERE PRMV_TX_INTEIRO_TEOR IS NOT NULL\n",
    "     and PRMV_TP_MOVIMENTO is not null\"\"\", con=ora_conn)\n",
    "\n",
    "    %time df_ora['PRMV_TX_INTEIRO_TEOR'] = df_ora.PRMV_TX_INTEIRO_TEOR.apply(lambda x: x.read())\n",
    "    \n",
    "    df_ora.loc[df_ora.PRMV_TP_MOVIMENTO.str.contains('sentença', case=False), 'EH_SENTENCA'] = 1\n",
    "    df_ora['resultado_classificacao'] = 0\n",
    "    \n",
    "    df_ora.to_pickle('df_ora_lido.pkl')"
   ]
  },
  {
   "cell_type": "markdown",
   "metadata": {},
   "source": [
    "# Classificação dos documentos"
   ]
  },
  {
   "cell_type": "markdown",
   "metadata": {},
   "source": [
    "### 1 Define Matriz de confusão"
   ]
  },
  {
   "cell_type": "code",
   "execution_count": 6,
   "metadata": {},
   "outputs": [],
   "source": [
    "from collections import namedtuple\n",
    "\n",
    "MatrizConfusao = namedtuple('MatrizConfusao', ['acuracia', 'sensibilidade', 'especificidade'])\n",
    "\n",
    "def matrix_de_confusao(corretos, classificados):\n",
    "    n = len(corretos)\n",
    "    classificados_corretamentes = sum(corretos == classificados)\n",
    "    acuracia = classificados_corretamentes / n * 100\n",
    "    \n",
    "    sensibilidade = (sum(np.logical_and(classificados == 1, corretos == 1)) \n",
    "                     / sum(corretos == 1)) * 100\n",
    "    especificidade = (sum(np.logical_and(classificados == 0, corretos == 0)) \n",
    "                     / sum(corretos == 0)) * 100\n",
    "    \n",
    "    \n",
    "    return MatrizConfusao(acuracia, sensibilidade, especificidade)\n",
    "\n",
    "\n",
    "def _verifica_resultado(resultado):\n",
    "    return resultado['positivo']"
   ]
  },
  {
   "cell_type": "markdown",
   "metadata": {},
   "source": [
    "#### Aplica classificadores em paralelo"
   ]
  },
  {
   "cell_type": "code",
   "execution_count": 8,
   "metadata": {},
   "outputs": [
    {
     "name": "stdout",
     "output_type": "stream",
     "text": [
      "CPU times: user 357 ms, sys: 274 ms, total: 631 ms\n",
      "Wall time: 27 s\n"
     ]
    }
   ],
   "source": [
    "def classifica(item):\n",
    "    return _verifica_resultado(regex.classifica_item(item))\n",
    "        \n",
    "\n",
    "def tempo():\n",
    "    with Pool(cpu_count()) as pool:\n",
    "        resultado = pool.map(\n",
    "            classifica,\n",
    "            df_ora.PRMV_TX_INTEIRO_TEOR.values)\n",
    "        df_ora['resultado_classificacao'] = resultado\n",
    "    \n",
    "%time tempo()"
   ]
  },
  {
   "cell_type": "code",
   "execution_count": 9,
   "metadata": {},
   "outputs": [],
   "source": [
    "def plota_matriz_confusao(cm, axis, normalizado):\n",
    "    fmt = '.2f' if normalizado else 'd'\n",
    "    axis.imshow(cm, cmap=plt.cm.Blues)\n",
    "    axis.set(ylabel = 'Observado')\n",
    "    axis.set(xlabel = 'Predito')\n",
    "    thresh = cm.max() / 2.\n",
    "    axis.set_xticklabels(\"\")\n",
    "    axis.set_yticklabels(\"\")\n",
    "    for i, j in itertools.product(range(cm.shape[0]), range(cm.shape[1])):\n",
    "        axis.text(j, i, format(cm[i, j], fmt),\n",
    "                 horizontalalignment=\"center\",\n",
    "                 color=\"white\" if cm[i, j] > thresh else \"black\")"
   ]
  },
  {
   "cell_type": "code",
   "execution_count": 10,
   "metadata": {
    "scrolled": false
   },
   "outputs": [
    {
     "data": {
      "image/png": "[encoded data removed]",
      "text/plain": [
       "<Figure size 720x576 with 2 Axes>"
      ]
     },
     "metadata": {},
     "output_type": "display_data"
    }
   ],
   "source": [
    "cm = confusion_matrix(df_ora.EH_SENTENCA.values, df_ora.resultado_classificacao.values, labels=[0, 1])\n",
    "cmn = cm.astype('float') / cm.sum(axis=1)[:, np.newaxis] * 100\n",
    "fig, (ax1, ax2) = plt.subplots(1, 2)\n",
    "plota_matriz_confusao(cm, ax1, False)\n",
    "plota_matriz_confusao(cmn, ax2, True)\n",
    "fig.set_size_inches(10,8)"
   ]
  },
  {
   "cell_type": "markdown",
   "metadata": {},
   "source": [
    "Ideias:\n",
    "\n",
    "1. Aplicar auto corretor no texto para um catálogo de palávras pré-definido, ie.:\n",
    "    PROCENTE -> PROCEDENTE\n",
    "2. Tentar excluir parágrafos iniciais da análise, ie.: primeiros 30%\n",
    "3. Criar um dicionário de palavras soletradas e remover os espaços em branco das sentenças\n"
   ]
  },
  {
   "attachments": {
    "df_ora-01.png": {
     "image/png": "[encoded data removed]"
    },
    "df_ora-02.png": {
     "image/png": "[encoded data removed]"
    },
    "df_ora-03.png": {
     "image/png": "[encoded data removed]"
    }
   },
   "cell_type": "markdown",
   "metadata": {},
   "source": [
    "### Log de Rultados\n",
    "\n",
    "#### 20/04/2018\n",
    "![df_ora-01.png](attachment:df_ora-01.png)\n",
    "\n",
    "\n",
    "#### 24/04/2018\n",
    "![df_ora-02.png](attachment:df_ora-02.png)\n",
    "\n",
    "#### 26/04/2018\n",
    "![df_ora-03.png](attachment:df_ora-03.png)\n"
   ]
  },
  {
   "cell_type": "code",
   "execution_count": 11,
   "metadata": {},
   "outputs": [],
   "source": [
    "CHECKPOINT = False\n",
    "if CHECKPOINT:\n",
    "        fig.savefig('df_ora-03.png')\n",
    "        df_ora.to_pickle('df_ora-03.pkl')"
   ]
  }
 ],
 "metadata": {
  "kernelspec": {
   "display_name": "Python 3",
   "language": "python",
   "name": "python3"
  },
  "language_info": {
   "codemirror_mode": {
    "name": "ipython",
    "version": 3
   },
   "file_extension": ".py",
   "mimetype": "text/x-python",
   "name": "python",
   "nbconvert_exporter": "python",
   "pygments_lexer": "ipython3",
   "version": "3.5.2"
  }
 },
 "nbformat": 4,
 "nbformat_minor": 2
}
