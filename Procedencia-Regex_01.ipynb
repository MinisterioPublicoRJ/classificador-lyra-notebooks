{
 "cells": [
  {
   "cell_type": "markdown",
   "metadata": {},
   "source": [
    "## Importa módulos"
   ]
  },
  {
   "cell_type": "code",
   "execution_count": 1,
   "metadata": {},
   "outputs": [],
   "source": [
    "%matplotlib inline\n",
    "import matplotlib.pyplot as plt\n",
    "import cx_Oracle\n",
    "import pandas as pd\n",
    "import numpy as np\n",
    "import logging\n",
    "import json\n",
    "import itertools\n",
    "import _pickle as cPickle\n",
    "from IPython.core.debugger import Tracer\n",
    "from functools import reduce\n",
    "import operator\n",
    "logging.basicConfig(format='%(asctime)s : %(levelname)s : %(message)s', level=logging.INFO)\n",
    "from multiprocessing import Pool\n",
    "import os\n",
    "from sklearn.metrics import confusion_matrix\n",
    "from classificadores import regex\n",
    "import dask.dataframe as ddf\n",
    "from dask.delayed import delayed\n",
    "from multiprocessing import cpu_count"
   ]
  },
  {
   "cell_type": "markdown",
   "metadata": {},
   "source": [
    "## Variáveis de configuração"
   ]
  },
  {
   "cell_type": "code",
   "execution_count": 2,
   "metadata": {},
   "outputs": [],
   "source": [
    "DS_EXADATA_HOST=os.environ['DB_HOST']\n",
    "DS_EXADATA_PORT=os.environ['DB_PORT']\n",
    "DS_EXADATA_SID=os.environ['DB_SID']\n",
    "DS_EXADATA_user=os.environ['DB_USER']\n",
    "DS_EXADATA_password=os.environ['DB_PASSWORD']\n",
    "\n",
    "pd.set_option('display.max_colwidth', 300)\n",
    "CACHE=True"
   ]
  },
  {
   "cell_type": "markdown",
   "metadata": {},
   "source": [
    "## Conexão com banco"
   ]
  },
  {
   "cell_type": "code",
   "execution_count": 3,
   "metadata": {},
   "outputs": [],
   "source": [
    "if not CACHE:\n",
    "    dsn_tns = cx_Oracle.makedsn(\n",
    "            DS_EXADATA_HOST,\n",
    "            DS_EXADATA_PORT,\n",
    "            DS_EXADATA_SID)\n",
    "    ora_conn = cx_Oracle.connect(\n",
    "            DS_EXADATA_user,\n",
    "            DS_EXADATA_password,\n",
    "            dsn_tns,\n",
    "            encoding=\"UTF-8\",\n",
    "            nencoding=\"UTF-8\",\n",
    "            threaded=True)"
   ]
  },
  {
   "cell_type": "markdown",
   "metadata": {},
   "source": [
    "## Query dos processos"
   ]
  },
  {
   "cell_type": "markdown",
   "metadata": {},
   "source": [
    "#### Extrai os valores do cx_Oracle.LOB, processo lento e pouco paralelizável\n",
    "#### Altere a variável CACHE para utilizar um pickle armazenado anteriormente"
   ]
  },
  {
   "cell_type": "code",
   "execution_count": 4,
   "metadata": {},
   "outputs": [
    {
     "name": "stdout",
     "output_type": "stream",
     "text": [
      "CPU times: user 284 ms, sys: 123 ms, total: 408 ms\n",
      "Wall time: 2.11 s\n"
     ]
    }
   ],
   "source": [
    "if CACHE:\n",
    "    %time df_ora = pd.read_pickle('df_ora_lido.pkl')\n",
    "else:\n",
    "    df_ora = pd.read_sql(\"\"\"SELECT TJRJ_PROCESSO_MOVIMENTO_TJ.*, 0 as EH_SENTENCA \n",
    "     FROM tjrj.TJRJ_PROCESSO_MOVIMENTO_TJ \n",
    "     WHERE PRMV_TX_INTEIRO_TEOR IS NOT NULL\n",
    "     and PRMV_TP_MOVIMENTO is not null\"\"\", con=ora_conn)\n",
    "\n",
    "    %time df_ora['PRMV_TX_INTEIRO_TEOR'] = df_ora.PRMV_TX_INTEIRO_TEOR.apply(lambda x: x.read())\n",
    "    \n",
    "    df_ora.loc[df_ora.PRMV_TP_MOVIMENTO.str.contains('sentença', case=False), 'EH_SENTENCA'] = 1\n",
    "    df_ora['resultado_classificacao'] = 0\n",
    "    \n",
    "    df_ora.to_pickle('df_ora_lido.pkl')"
   ]
  },
  {
   "cell_type": "markdown",
   "metadata": {},
   "source": [
    "# Classificação dos documentos"
   ]
  },
  {
   "cell_type": "markdown",
   "metadata": {},
   "source": [
    "### 1 Define Matriz de confusão"
   ]
  },
  {
   "cell_type": "code",
   "execution_count": 5,
   "metadata": {},
   "outputs": [],
   "source": [
    "from collections import namedtuple\n",
    "\n",
    "MatrizConfusao = namedtuple('MatrizConfusao', ['acuracia', 'sensibilidade', 'especificidade'])\n",
    "\n",
    "def matrix_de_confusao(corretos, classificados):\n",
    "    n = len(corretos)\n",
    "    classificados_corretamentes = sum(corretos == classificados)\n",
    "    acuracia = classificados_corretamentes / n * 100\n",
    "    \n",
    "    sensibilidade = (sum(np.logical_and(classificados == 1, corretos == 1)) \n",
    "                     / sum(corretos == 1)) * 100\n",
    "    especificidade = (sum(np.logical_and(classificados == 0, corretos == 0)) \n",
    "                     / sum(corretos == 0)) * 100\n",
    "    \n",
    "    \n",
    "    return MatrizConfusao(acuracia, sensibilidade, especificidade)\n",
    "\n",
    "\n",
    "def _verifica_resultado(resultado):\n",
    "    return resultado['positivo']"
   ]
  },
  {
   "cell_type": "markdown",
   "metadata": {},
   "source": [
    "\n",
    "#### Aplica classificadores em paralelo"
   ]
  },
  {
   "cell_type": "code",
   "execution_count": 6,
   "metadata": {},
   "outputs": [
    {
     "name": "stdout",
     "output_type": "stream",
     "text": [
      "CPU times: user 557 ms, sys: 308 ms, total: 866 ms\n",
      "Wall time: 49.8 s\n"
     ]
    }
   ],
   "source": [
    "colunas_classificadores = [x.__name__ for x in regex.classificadores]\n",
    "\n",
    "def classifica(item):\n",
    "    return _verifica_resultado(regex.classifica_item(item))\n",
    "        \n",
    "def classifica_unico(item):\n",
    "    retorno = regex.classifica_item(item)\n",
    "    saida = []\n",
    "    for chave in colunas_classificadores:\n",
    "        saida += [\n",
    "            retorno['classificacoes'][chave]['positivo']            \n",
    "        ]\n",
    "    return saida\n",
    "    \n",
    "def tempo():\n",
    "    global df_ora\n",
    "    with Pool(cpu_count()) as pool:\n",
    "        resultado = pool.map(\n",
    "            classifica_unico,\n",
    "            df_ora.PRMV_TX_INTEIRO_TEOR.values)\n",
    "        df_ora = df_ora\n",
    "        df_ora = pd.concat([df_ora, pd.DataFrame(resultado, columns=colunas_classificadores)], axis=1)\n",
    "        df_ora['CLASSIFICACAO'] = np.sum(df_ora[colunas_classificadores].values, axis=1) \n",
    "        \n",
    "%time tempo()"
   ]
  },
  {
   "cell_type": "code",
   "execution_count": 7,
   "metadata": {},
   "outputs": [
    {
     "data": {
      "text/plain": [
       "ProcedenteClassifier                18544\n",
       "ImprocedenteClassifier               1110\n",
       "ParcialmenteProcedenteClassifier      558\n",
       "ExtincaoPunibilidadeClassifier      19934\n",
       "AbsolvoClassifier                       1\n",
       "NegacaoProvimentoClassifier            86\n",
       "DeixoResolverMeritoClassifier           0\n",
       "DaProvimentoClassifier                 80\n",
       "IndeferenciaClassifier                791\n",
       "ArquivamentoClassifier                700\n",
       "ExtincaoProcessoClassifier              3\n",
       "ExtincaoComResolucaoClassifier       2209\n",
       "ExtincaoSemResolucaoClassifier       5379\n",
       "dtype: int64"
      ]
     },
     "execution_count": 7,
     "metadata": {},
     "output_type": "execute_result"
    }
   ],
   "source": [
    "np.sum(df_ora[colunas_classificadores])\n",
    "# ProcedenteClassifier                20139\n",
    "# ImprocedenteClassifier               1110"
   ]
  },
  {
   "cell_type": "code",
   "execution_count": 8,
   "metadata": {},
   "outputs": [],
   "source": [
    "def plota_matriz_confusao(cm, axis, normalizado):\n",
    "    texto = '%.2f%%' if normalizado else '%d'\n",
    "    axis.imshow(cm, cmap=plt.cm.Blues)\n",
    "    axis.set_xlabel('Predito', fontsize=14)\n",
    "    axis.set_ylabel('Metadado TJ', fontsize=14)\n",
    "    thresh = cm.max() / 2.\n",
    "    axis.set_xticks([0, 1])\n",
    "    axis.set_yticks([-0, 1])\n",
    "    axis.set_xticklabels(['Neg', 'Pos'], fontsize=14)\n",
    "    axis.set_yticklabels(['Neg', 'Pos'], fontsize=14)\n",
    "    for i, j in itertools.product(range(cm.shape[0]), range(cm.shape[1])):\n",
    "        axis.text(j, i, texto % cm[i, j],\n",
    "                 horizontalalignment=\"center\",\n",
    "                 color=\"white\" if cm[i, j] > thresh else \"black\", fontsize=13)"
   ]
  },
  {
   "cell_type": "code",
   "execution_count": 9,
   "metadata": {},
   "outputs": [
    {
     "data": {
      "image/png": "[encoded data removed]",
      "text/plain": [
       "<Figure size 1080x576 with 2 Axes>"
      ]
     },
     "metadata": {},
     "output_type": "display_data"
    }
   ],
   "source": [
    "plt.rcParams['font.weight'] = 'bold'\n",
    "cm = confusion_matrix(df_ora.EH_SENTENCA.values, df_ora.CLASSIFICACAO.values, labels=[0, 1])\n",
    "cmn = cm.astype('float') / cm.sum(axis=1)[:, np.newaxis] * 100\n",
    "fig, (ax1, ax2) = plt.subplots(1, 2)\n",
    "plota_matriz_confusao(cm, ax1, False)\n",
    "plota_matriz_confusao(cmn, ax2, True)\n",
    "fig.set_size_inches(15, 8)\n"
   ]
  },
  {
   "cell_type": "markdown",
   "metadata": {},
   "source": [
    "Ideias:\n",
    "\n",
    "1. Aplicar auto corretor no texto para um catálogo de palávras pré-definido, ie.:\n",
    "    PROCENTE -> PROCEDENTE\n",
    "2. Tentar excluir parágrafos iniciais da análise, ie.: primeiros 30%\n",
    "3. Criar um dicionário de palavras soletradas e remover os espaços em branco das sentenças\n"
   ]
  },
  {
   "cell_type": "markdown",
   "metadata": {},
   "source": [
    "### Log de Rultados\n",
    "\n",
    "#### 20/04/2018\n",
    "![https://github.com/MinisterioPublicoRJ/classificador-lyra-notebooks/raw/master/df_ora-01.png](https://github.com/MinisterioPublicoRJ/classificador-lyra-notebooks/raw/master/df_ora-01.png)\n",
    "\n",
    "\n",
    "#### 24/04/2018\n",
    "![https://github.com/MinisterioPublicoRJ/classificador-lyra-notebooks/raw/master/df_ora-02.png](https://github.com/MinisterioPublicoRJ/classificador-lyra-notebooks/raw/master/df_ora-02.png)\n",
    "\n",
    "#### 26/04/2018\n",
    "![https://github.com/MinisterioPublicoRJ/classificador-lyra-notebooks/raw/master/df_ora-03.png](https://github.com/MinisterioPublicoRJ/classificador-lyra-notebooks/raw/master/df_ora-03.png)\n",
    "\n",
    "\n",
    "#### 02/05/2018\n",
    "![https://github.com/MinisterioPublicoRJ/classificador-lyra-notebooks/raw/master/df_ora-04.png](https://github.com/MinisterioPublicoRJ/classificador-lyra-notebooks/raw/master/df_ora-04.png)\n"
   ]
  },
  {
   "cell_type": "code",
   "execution_count": 10,
   "metadata": {},
   "outputs": [],
   "source": [
    "CHECKPOINT = False\n",
    "if CHECKPOINT:\n",
    "        fig.savefig('df_ora-04.png')\n",
    "        df_ora.to_pickle('df_ora-04.pkl')"
   ]
  },
  {
   "cell_type": "markdown",
   "metadata": {},
   "source": [
    "Segue um experimento de recorte de dispositivos das sentenças:\n",
    "\n",
    "Extrair todos os parágrafos que estão em torno dos recortes de sentenças."
   ]
  },
  {
   "cell_type": "code",
   "execution_count": 11,
   "metadata": {},
   "outputs": [],
   "source": [
    "def extrai_paragrafo(texto, posicao):\n",
    "    inicio, fim = texto[0:posicao].split(\"\\n\"), texto[posicao:].split(\"\\n\")\n",
    "    return inicio[-1] + fim[0]"
   ]
  },
  {
   "cell_type": "code",
   "execution_count": 12,
   "metadata": {},
   "outputs": [
    {
     "data": {
      "text/plain": [
       "'    aqui se encontra um dispositivo da sentença. este dispositivo fala da bagacinha em questão.'"
      ]
     },
     "execution_count": 12,
     "metadata": {},
     "output_type": "execute_result"
    }
   ],
   "source": [
    "texto = \"\"\"\n",
    "    aqui está um texto com parágrafos\n",
    "    \n",
    "    aqui se encontra um dispositivo da sentença. este dispositivo fala da bagacinha em questão.\n",
    "    \n",
    "    aqui está outro pedacinho do dispositivo.\n",
    "\"\"\"\n",
    "\n",
    "extrai_paragrafo(texto, texto.find(\"dispositivo\"))"
   ]
  },
  {
   "cell_type": "code",
   "execution_count": null,
   "metadata": {},
   "outputs": [],
   "source": []
  }
 ],
 "metadata": {
  "kernelspec": {
   "display_name": "Python 3",
   "language": "python",
   "name": "python3"
  },
  "language_info": {
   "codemirror_mode": {
    "name": "ipython",
    "version": 3
   },
   "file_extension": ".py",
   "mimetype": "text/x-python",
   "name": "python",
   "nbconvert_exporter": "python",
   "pygments_lexer": "ipython3",
   "version": "3.5.2"
  }
 },
 "nbformat": 4,
 "nbformat_minor": 2
}
